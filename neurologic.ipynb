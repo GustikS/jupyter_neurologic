{
 "cells": [
  {
   "cell_type": "markdown",
   "metadata": {},
   "source": [
    "# Getting started with NeuroLogic programming"
   ]
  },
  {
   "cell_type": "markdown",
   "metadata": {},
   "source": [
    "The following example aims to familiarize the reader with the proposed formalism and briefly illustrate its benefits. The goal for the learned model is to  predict (compute) score of words in Scrabble\\footnote{Further, bonus points are added for selected bi-grams to demonstrate the use of rules with more than one literal in the body.}.\n",
    "\n",
    "The model is described as a weighted logic program, further referred to as a template.\n",
    "The template reflects the high-level structure of the resulting models and possibly some background knowledge about the problem. In Srabble for instance, we know that every letter affects the score of a word. To make the situation more interesting, we will consider that the same holds for bi-grams of letters. To encode the knowledge, we use Horn clauses (also called rules)."
   ]
  },
  {
   "cell_type": "markdown",
   "metadata": {},
   "source": [
    "Each rule is in the following format: \n",
    "$$\n",
    "\\underbrace{\\texttt{0.0}}_{\\text{weight}}\\texttt{ }\\underbrace{\\texttt{score()}}_{\\text{rule head}} \\texttt{ :- }\\underbrace{\\texttt{letterA(X)}}_{\\text{rule tail}}. \\underbrace{\\texttt{[lukasiewicz]}}_{\\text{activation function (optional)}}\n",
    "$$\n",
    "Weight of the rule is either learnable (then the weight represents the initial value for learning with the exception of $0.0$, where the initial weight value will be randomly generated) or fixed (fixed weights are enclosed in angle brackets).\n",
    "In our sample scenario, we do not know the weight of any letter, and so every rule in this example will have learnable weight. The template for this problem will look as follows\\footnote{for the whole template see \\fullref{scrabble---template} }."
   ]
  },
  {
   "cell_type": "markdown",
   "metadata": {},
   "source": [
    "### Template"
   ]
  },
  {
   "cell_type": "code",
   "execution_count": null,
   "metadata": {
    "ExecuteTime": {
     "end_time": "2017-07-28T11:56:11.239938Z",
     "start_time": "2017-07-28T11:56:11.235231Z"
    },
    "code_folding": []
   },
   "outputs": [],
   "source": [
    "%%writefile scrabble_rules.pl\n",
    "0.0 score() :- letter(Letter,Position),\n",
    "               member(Letter,[a,b,c,d,e,f,g,h,i,j,k,l,m,n,o,p,q,r,s,t,u,v,w,x,y,z]). [^Letter,identity]\n",
    "score/0 [identity]"
   ]
  },
  {
   "cell_type": "markdown",
   "metadata": {},
   "source": [
    "The training set consists of grounded rules. These rules act as examples to learn the right weights in the lifted (templated) model. Every example should be provable from the (learned) model. In this particular example, we know only scores for some words, the corresponding rules will be in the following format.\n",
    "  $$\n",
    "     \\underbrace{\\texttt{7.0}}_{\\text{desired output}}\\texttt{ }\\underbrace{\\texttt{score()}}_{\\text{query}} \\texttt{ :- }\\underbrace{\\texttt{letterH(l1),letterI(l2),next(l1,l2)}}_{\\text{evidence}}.\n",
    "  $$"
   ]
  },
  {
   "cell_type": "markdown",
   "metadata": {},
   "source": [
    "### Training set"
   ]
  },
  {
   "cell_type": "code",
   "execution_count": null,
   "metadata": {
    "ExecuteTime": {
     "end_time": "2017-07-28T11:56:11.453444Z",
     "start_time": "2017-07-28T11:56:11.443825Z"
    },
    "code_folding": []
   },
   "outputs": [],
   "source": [
    "%%writefile scrabble_training_set.pl\n",
    "19 score() :- letter(m,1),letter(a,2),letter(l,3),letter(e,4),letter(d,5),letter(i,6),letter(c,7),letter(t,8),letter(o,9),letter(r,10),letter(y,11).\n",
    "9  score() :- letter(t,1),letter(a,2),letter(n,3),letter(g,4),letter(i,5),letter(n,6),letter(g,7).\n",
    "19 score() :- letter(v,1),letter(a,2),letter(g,3),letter(a,4),letter(b,5),letter(o,6),letter(n,7),letter(d,8),letter(a,9),letter(g,10),letter(e,11).\n",
    "23 score() :- letter(b,1),letter(e,2),letter(j,3),letter(u,4),letter(m,5),letter(b,6),letter(l,7),letter(e,8),letter(d,9).\n",
    "17 score() :- letter(p,1),letter(a,2),letter(d,3),letter(d,4),letter(l,5),letter(e,6),letter(b,7),letter(a,8),letter(l,9),letter(l,10),letter(s,11).\n",
    "13 score() :- letter(b,1),letter(i,2),letter(o,3),letter(a,4),letter(s,5),letter(s,6),letter(a,7),letter(y,8).\n",
    "21 score() :- letter(f,1),letter(i,2),letter(a,3),letter(n,4),letter(c,5),letter(h,6),letter(e,7),letter(t,8),letter(t,9),letter(o,10),letter(e,11),letter(d,12).\n",
    "16 score() :- letter(s,1),letter(u,2),letter(c,3),letter(c,4),letter(o,5),letter(t,6),letter(a,7),letter(s,8),letter(h,9).\n",
    "18 score() :- letter(u,1),letter(n,2),letter(p,3),letter(i,4),letter(c,5),letter(k,6),letter(i,7),letter(n,8),letter(g,9).\n",
    "20 score() :- letter(b,1),letter(i,2),letter(l,3),letter(d,4),letter(u,5),letter(n,6),letter(g,7),letter(s,8),letter(r,9),letter(o,10),letter(m,11),letter(a,12),letter(n,13),letter(e,14).\n",
    "24 score() :- letter(d,1),letter(e,2),letter(h,3),letter(y,4),letter(d,5),letter(r,6),letter(o,7),letter(g,8),letter(e,9),letter(n,10),letter(a,11),letter(t,12),letter(i,13),letter(o,14),letter(n,15).\n",
    "16 score() :- letter(d,1),letter(o,2),letter(w,3),letter(n,4),letter(f,5),letter(a,6),letter(l,7),letter(l,8),letter(s,9).\n",
    "11 score() :- letter(m,1),letter(o,2),letter(p,3),letter(e,4),letter(d,5),letter(s,6).\n",
    "21 score() :- letter(e,1),letter(v,2),letter(o,3),letter(c,4),letter(a,5),letter(t,6),letter(i,7),letter(v,8),letter(e,9),letter(n,10),letter(e,11),letter(s,12),letter(s,13).\n",
    "22 score() :- letter(c,1),letter(h,2),letter(a,3),letter(f,4),letter(f,5),letter(e,6),letter(r,7),letter(i,8),letter(n,9),letter(g,10).\n",
    "27 score() :- letter(f,1),letter(l,2),letter(i,3),letter(b,4),letter(b,5),letter(e,6),letter(r,7),letter(t,8),letter(i,9),letter(g,10),letter(i,11),letter(b,12),letter(b,13),letter(e,14),letter(t,15).\n",
    "16 score() :- letter(a,1),letter(f,2),letter(t,3),letter(e,4),letter(r,5),letter(w,6),letter(a,7),letter(r,8),letter(d,9).\n",
    "22 score() :- letter(i,1),letter(n,2),letter(f,3),letter(l,4),letter(a,5),letter(m,6),letter(m,7),letter(a,8),letter(t,9),letter(o,10),letter(r,11),letter(y,12).\n",
    "17 score() :- letter(o,1),letter(l,2),letter(i,3),letter(g,4),letter(a,5),letter(r,6),letter(c,7),letter(h,8),letter(i,9),letter(e,10),letter(s,11).\n",
    "12 score() :- letter(n,1),letter(i,2),letter(t,3),letter(r,4),letter(o,5),letter(g,6),letter(e,7),letter(n,8),letter(a,9),letter(s,10),letter(e,11).\n",
    "18 score() :- letter(s,1),letter(o,2),letter(m,3),letter(a,4),letter(t,5),letter(o,6),letter(l,7),letter(o,8),letter(g,9),letter(i,10),letter(c,11),letter(a,12),letter(l,13).\n",
    "15 score() :- letter(h,1),letter(i,2),letter(g,3),letter(h,4),letter(t,5),letter(a,6),letter(i,7),letter(l,8).\n",
    "18 score() :- letter(c,1),letter(h,2),letter(i,3),letter(m,4),letter(a,5),letter(e,6),letter(r,7),letter(i,8),letter(c,9).\n",
    "15 score() :- letter(c,1),letter(h,2),letter(o,3),letter(p,4),letter(i,5),letter(n,6),letter(e,7),letter(s,8).\n",
    "14 score() :- letter(m,1),letter(e,2),letter(d,3),letter(i,4),letter(c,5),letter(a,6),letter(i,7),letter(d,8).\n",
    "14 score() :- letter(m,1),letter(o,2),letter(l,3),letter(e,4),letter(s,5),letter(k,6),letter(i,7),letter(n,8).\n",
    "15 score() :- letter(m,1),letter(u,2),letter(l,3),letter(t,4),letter(i,5),letter(e,6),letter(n,7),letter(g,8),letter(i,9),letter(n,10),letter(e,11),letter(s,12).\n",
    "19 score() :- letter(j,1),letter(e,2),letter(r,3),letter(e,4),letter(m,5),letter(i,6),letter(a,7),letter(d,8),letter(s,9).\n",
    "20 score() :- letter(r,1),letter(e,2),letter(e,3),letter(j,4),letter(e,5),letter(c,6),letter(t,7),letter(i,8),letter(n,9),letter(g,10).\n",
    "29 score() :- letter(s,1),letter(t,2),letter(o,3),letter(c,4),letter(k,5),letter(j,6),letter(o,7),letter(b,8),letter(b,9),letter(e,10),letter(r,11),letter(s,12).\n",
    "15 score() :- letter(p,1),letter(i,2),letter(k,3),letter(e,4),letter(m,5),letter(a,6),letter(n,7).\n",
    "15 score() :- letter(d,1),letter(i,2),letter(b,3),letter(b,4),letter(u,5),letter(k,6).\n",
    "17 score() :- letter(b,1),letter(l,2),letter(o,3),letter(c,4),letter(k,5),letter(i,6),letter(e,7),letter(s,8),letter(t,9).\n",
    "10 score() :- letter(s,1),letter(w,2),letter(o,3),letter(l,4),letter(l,5),letter(e,6),letter(n,7).\n",
    "13 score() :- letter(s,1),letter(y,2),letter(l,3),letter(p,4),letter(h,5).\n",
    "14 score() :- letter(s,1),letter(a,2),letter(g,3),letter(i,4),letter(t,5),letter(t,6),letter(a,7),letter(l,8),letter(l,9),letter(y,10).\n",
    "5  score() :- letter(m,1),letter(o,2),letter(n,3).\n",
    "12 score() :- letter(m,1),letter(a,2),letter(s,3),letter(h,4),letter(e,5),letter(d,6).\n",
    "29 score() :- letter(c,1),letter(y,2),letter(t,3),letter(o,4),letter(p,5),letter(h,6),letter(o,7),letter(t,8),letter(o,9),letter(m,10),letter(e,11),letter(t,12),letter(r,13),letter(i,14),letter(c,15).\n",
    "14 score() :- letter(b,1),letter(o,2),letter(n,3),letter(e,4),letter(y,5),letter(a,6),letter(r,7),letter(d,8).\n",
    "17 score() :- letter(h,1),letter(a,2),letter(n,3),letter(d,4),letter(y,5),letter(m,6),letter(a,7),letter(n,8).\n",
    "15 score() :- letter(t,1),letter(e,2),letter(c,3),letter(h,4),letter(n,5),letter(i,6),letter(c,7),letter(s,8).\n",
    "28 score() :- letter(m,1),letter(a,2),letter(g,3),letter(n,4),letter(i,5),letter(l,6),letter(o,7),letter(q,8),letter(u,9),letter(e,10),letter(n,11),letter(c,12),letter(e,13),letter(s,14).\n",
    "14 score() :- letter(e,1),letter(r,2),letter(g,3),letter(o,4),letter(t,5),letter(a,6),letter(m,7),letter(i,8),letter(n,9),letter(e,10),letter(s,11).\n",
    "9  score() :- letter(o,1),letter(r,2),letter(g,3),letter(a,4),letter(s,5),letter(m,6).\n",
    "24 score() :- letter(t,1),letter(r,2),letter(a,3),letter(n,4),letter(s,5),letter(p,6),letter(l,7),letter(a,8),letter(n,9),letter(t,10),letter(a,11),letter(b,12),letter(i,13),letter(l,14),letter(i,15),letter(t,16),letter(y,17).\n",
    "12 score() :- letter(m,1),letter(o,2),letter(p,3),letter(e,4),letter(r,5),letter(i,6),letter(e,7),letter(s,8).\n",
    "22 score() :- letter(i,1),letter(c,2),letter(o,3),letter(n,4),letter(o,5),letter(g,6),letter(r,7),letter(a,8),letter(p,9),letter(h,10),letter(i,11),letter(c,12).\n",
    "23 score() :- letter(s,1),letter(q,2),letter(u,3),letter(e,4),letter(a,5),letter(k,6),letter(y,7).\n",
    "18 score() :- letter(m,1),letter(a,2),letter(r,3),letter(q,4),letter(u,5),letter(e,6),letter(s,7).\n",
    "27 score() :- letter(q,1),letter(u,2),letter(i,3),letter(c,4),letter(k,5),letter(s,6),letter(t,7),letter(e,8),letter(p,9),letter(s,10).\n",
    "17 score() :- letter(c,1),letter(l,2),letter(o,3),letter(b,4),letter(b,5),letter(e,6),letter(r,7),letter(i,8),letter(n,9),letter(g,10).\n",
    "17 score() :- letter(u,1),letter(n,2),letter(d,3),letter(e,4),letter(r,5),letter(c,6),letter(o,7),letter(a,8),letter(t,9),letter(i,10),letter(n,11),letter(g,12),letter(s,13).\n",
    "12 score() :- letter(w,1),letter(r,2),letter(o,3),letter(n,4),letter(g,5),letter(e,6),letter(d,7).\n",
    "16 score() :- letter(n,1),letter(o,2),letter(n,3),letter(r,4),letter(e,5),letter(s,6),letter(p,7),letter(o,8),letter(n,9),letter(d,10),letter(e,11),letter(n,12),letter(t,13).\n",
    "12 score() :- letter(b,1),letter(e,2),letter(a,3),letter(s,4),letter(t,5),letter(i,6),letter(n,7),letter(g,8),letter(s,9).\n",
    "24 score() :- letter(s,1),letter(q,2),letter(u,3),letter(e,4),letter(l,5),letter(c,6),letter(h,7),letter(e,8),letter(d,9).\n",
    "18 score() :- letter(p,1),letter(u,2),letter(l,3),letter(s,4),letter(o,5),letter(j,6),letter(e,7),letter(t,8),letter(s,9).\n",
    "13 score() :- letter(o,1),letter(u,2),letter(t,3),letter(f,4),letter(l,5),letter(e,6),letter(w,7).\n",
    "8  score() :- letter(p,1),letter(l,2),letter(a,3),letter(n,4),letter(e,5),letter(t,6).\n",
    "18 score() :- letter(s,1),letter(o,2),letter(u,3),letter(t,4),letter(h,5),letter(w,6),letter(e,7),letter(s,8),letter(t,9),letter(e,10),letter(r,11),letter(n,12).\n",
    "16 score() :- letter(h,1),letter(e,2),letter(a,3),letter(d,4),letter(h,5),letter(u,6),letter(n,7),letter(t,8),letter(s,9).\n",
    "32 score() :- letter(m,1),letter(e,2),letter(s,3),letter(e,4),letter(m,5),letter(b,6),letter(r,7),letter(y,8),letter(a,9),letter(n,10),letter(t,11),letter(h,12),letter(e,13),letter(m,14),letter(u,15),letter(m,16).\n",
    "20 score() :- letter(i,1),letter(n,2),letter(t,3),letter(e,4),letter(r,5),letter(v,6),letter(a,7),letter(l,8),letter(o,9),letter(m,10),letter(e,11),letter(t,12),letter(e,13),letter(r,14),letter(s,15).\n",
    "12 score() :- letter(g,1),letter(r,2),letter(e,3),letter(a,4),letter(v,5),letter(e,6),letter(d,7).\n",
    "20 score() :- letter(f,1),letter(a,2),letter(c,3),letter(i,4),letter(l,5),letter(i,6),letter(t,7),letter(a,8),letter(t,9),letter(i,10),letter(v,11),letter(e,12).\n",
    "14 score() :- letter(p,1),letter(r,2),letter(e,3),letter(d,4),letter(a,5),letter(w,6),letter(n,7),letter(s,8).\n",
    "13 score() :- letter(w,1),letter(e,2),letter(l,3),letter(f,4),letter(a,5),letter(r,6),letter(e,7).\n",
    "8  score() :- letter(s,1),letter(w,2),letter(a,3),letter(g,4).\n",
    "21 score() :- letter(b,1),letter(a,2),letter(n,3),letter(d,4),letter(b,5),letter(o,6),letter(x,7),letter(e,8),letter(s,9).\n",
    "23 score() :- letter(p,1),letter(e,2),letter(m,3),letter(p,4),letter(h,5),letter(i,6),letter(x,7).\n",
    "14 score() :- letter(r,1),letter(e,2),letter(l,3),letter(a,4),letter(x,5),letter(i,6),letter(n,7).\n",
    "28 score() :- letter(k,1),letter(y,2),letter(m,3),letter(o,4),letter(g,5),letter(r,6),letter(a,7),letter(p,8),letter(h,9),letter(i,10),letter(c,11).\n",
    "30 score() :- letter(h,1),letter(y,2),letter(p,3),letter(e,4),letter(r,5),letter(e,6),letter(x,7),letter(t,8),letter(e,9),letter(n,10),letter(d,11),letter(e,12),letter(d,13).\n",
    "24 score() :- letter(c,1),letter(l,2),letter(i,3),letter(t,4),letter(o,5),letter(r,6),letter(i,7),letter(d,8),letter(e,9),letter(c,10),letter(t,11),letter(o,12),letter(m,13),letter(y,14).\n",
    "16 score() :- letter(d,1),letter(i,2),letter(t,3),letter(z,4),letter(e,5),letter(s,6).\n",
    "21 score() :- letter(t,1),letter(e,2),letter(n,3),letter(d,4),letter(e,5),letter(r,6),letter(i,7),letter(z,8),letter(e,9),letter(d,10).\n",
    "26 score() :- letter(p,1),letter(a,2),letter(r,3),letter(a,4),letter(m,5),letter(e,6),letter(t,7),letter(e,8),letter(r,9),letter(i,10),letter(z,11),letter(e,12),letter(s,13)."
   ]
  },
  {
   "cell_type": "markdown",
   "metadata": {},
   "source": [
    "# Setup & Start Learning phase (may take a while to finish)"
   ]
  },
  {
   "cell_type": "code",
   "execution_count": null,
   "metadata": {
    "ExecuteTime": {
     "end_time": "2017-07-28T11:56:42.744448Z",
     "start_time": "2017-07-28T11:56:11.464872Z"
    }
   },
   "outputs": [],
   "source": [
    "from neurologic import run, plot_statistics, learned_template\n",
    "import holoviews as hv\n",
    "hv.notebook_extension('bokeh')\n",
    "\n",
    "output = run(\"scrabble_rules.pl\",\"scrabble_training_set.pl\",grounding=\"sum\")"
   ]
  },
  {
   "cell_type": "markdown",
   "metadata": {},
   "source": [
    "# Results: Learning curve"
   ]
  },
  {
   "cell_type": "code",
   "execution_count": null,
   "metadata": {
    "ExecuteTime": {
     "end_time": "2017-07-28T11:56:47.529665Z",
     "start_time": "2017-07-28T11:56:42.756650Z"
    }
   },
   "outputs": [],
   "source": [
    "%%opts Curve [width=625 height=400]\n",
    "plot_statistics(output)"
   ]
  },
  {
   "cell_type": "markdown",
   "metadata": {},
   "source": [
    "# Results: Learned template"
   ]
  },
  {
   "cell_type": "code",
   "execution_count": 13,
   "metadata": {
    "ExecuteTime": {
     "end_time": "2017-07-28T12:17:35.027707Z",
     "start_time": "2017-07-28T12:17:33.370519Z"
    },
    "scrolled": false
   },
   "outputs": [
    {
     "name": "stdout",
     "output_type": "stream",
     "text": [
      "9.999999999999990 score(a) :- letter(z,Position).\n",
      "4.000000000000001 score(a) :- letter(y,Position).\n",
      "7.999999999999997 score(a) :- letter(x,Position).\n",
      "3.999999999999999 score(a) :- letter(w,Position).\n",
      "3.999999999999997 score(a) :- letter(v,Position).\n",
      "1.000000000000003 score(a) :- letter(u,Position).\n",
      "0.999999999999999 score(a) :- letter(t,Position).\n",
      "1.000000000000000 score(a) :- letter(s,Position).\n",
      "1.000000000000000 score(a) :- letter(r,Position).\n",
      "9.999999999999990 score(a) :- letter(q,Position).\n",
      "3.000000000000001 score(a) :- letter(p,Position).\n",
      "0.999999999999999 score(a) :- letter(o,Position).\n",
      "0.999999999999999 score(a) :- letter(n,Position).\n",
      "2.999999999999999 score(a) :- letter(m,Position).\n",
      "1.000000000000000 score(a) :- letter(l,Position).\n",
      "5.000000000000001 score(a) :- letter(k,Position).\n",
      "7.999999999999998 score(a) :- letter(j,Position).\n",
      "1.000000000000001 score(a) :- letter(i,Position).\n",
      "3.999999999999998 score(a) :- letter(h,Position).\n",
      "2.000000000000000 score(a) :- letter(g,Position).\n",
      "3.999999999999999 score(a) :- letter(f,Position).\n",
      "1.000000000000002 score(a) :- letter(e,Position).\n",
      "2.000000000000000 score(a) :- letter(d,Position).\n",
      "3.000000000000000 score(a) :- letter(c,Position).\n",
      "3.000000000000000 score(a) :- letter(b,Position).\n",
      "1.000000000000000 score(a) :- letter(a,Position).\n",
      "1.000000000000000 finalKappa(a) :- score(__X0),finalscore(__X0).\n",
      "0.000000000000000 finalKappa(a) :- letter(__X0,__X1),finalletter(__X0,__X1).\n",
      "finalKappa/1 0.0\n",
      "finalletter/2 0.0\n",
      "finalscore/1 0.0\n",
      "letter/2 0.0\n",
      "score/1 0.0\n"
     ]
    }
   ],
   "source": [
    "print(learned_template(output))"
   ]
  },
  {
   "cell_type": "code",
   "execution_count": null,
   "metadata": {
    "ExecuteTime": {
     "end_time": "2017-07-28T12:02:20.590059Z",
     "start_time": "2017-07-28T12:02:20.577214Z"
    }
   },
   "outputs": [],
   "source": [
    "%store output"
   ]
  },
  {
   "cell_type": "code",
   "execution_count": 3,
   "metadata": {
    "ExecuteTime": {
     "end_time": "2017-07-28T12:05:42.164254Z",
     "start_time": "2017-07-28T12:05:42.130006Z"
    }
   },
   "outputs": [],
   "source": [
    "from neurologic import run, plot_statistics, learned_template\n",
    "%load_ext autoreload\n",
    "%autoreload 2\n",
    "%store -r output"
   ]
  },
  {
   "cell_type": "code",
   "execution_count": null,
   "metadata": {
    "collapsed": true
   },
   "outputs": [],
   "source": []
  }
 ],
 "metadata": {
  "kernelspec": {
   "display_name": "Python 3",
   "language": "python",
   "name": "python3"
  },
  "language_info": {
   "codemirror_mode": {
    "name": "ipython",
    "version": 3
   },
   "file_extension": ".py",
   "mimetype": "text/x-python",
   "name": "python",
   "nbconvert_exporter": "python",
   "pygments_lexer": "ipython3",
   "version": "3.6.1"
  }
 },
 "nbformat": 4,
 "nbformat_minor": 2
}
