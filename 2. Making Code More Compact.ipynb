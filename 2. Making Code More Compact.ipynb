{
 "cells": [
  {
   "cell_type": "markdown",
   "metadata": {},
   "source": [
    "# Making Code More Compact\n",
    "\n",
    "In the Scrabble problem, we had to write almost the same rule for every letter. This approach is tedious and leads to long and bloated program.\n",
    "\n",
    "Simillarly to for loop construct in imperative languages, NeuroLogic programming offers Rule specialization syntax to get rid of the code redundancy.\n",
    "\n",
    "### Rule Specialization\n",
    "\n",
    "Normal rule uses the same weight for all of its groundings. Sometimes, you would like to have a finer categorization, to specialize the rule. The rule will be weighted differently based on different constants appearing in groundings. To achieve such behaviour, Rule Specialization syntax is used. You mark which variables are Specialization Variables, \n",
    "Variables which each grounding constant should be treated separately. The NeuroLogic interpreter will then share the weight only with groundings that have the same constant. Specialization Variables are specified in square brackets with leading ^ (carret). \n",
    "\n",
    "Current limitation of Rule Specialization in NeuroLogic interpreter is that you also have to specify all possible constants that can be substituted for the Specialization Variable. The specification is made by the member predicate.\n",
    "\n",
    "To ease the writing a domain of a Variable, range predicate can be handy. This predicate creates a list of all constrant from _start_ to _end_ (both inclusive).\n",
    "\n",
    "For better understanding how does it look I rewrote the Scrabble template in this fashion."
   ]
  },
  {
   "cell_type": "code",
   "execution_count": 2,
   "metadata": {},
   "outputs": [
    {
     "name": "stdout",
     "output_type": "stream",
     "text": [
      "Overwriting sample_tasks/scrabble_specialized_rules.pl\n"
     ]
    }
   ],
   "source": [
    "%%writefile sample_tasks/scrabble_specialized_rules.pl \n",
    "0.0 score() :- letter(Letter,Position),range(LetterRange,a,z),member(Letter,LetterRange). [^Letter,lukasiewicz]\n",
    "score/0 [sum]"
   ]
  },
  {
   "cell_type": "markdown",
   "metadata": {},
   "source": [
    "If you want to look at the translation back to list of normal use you can use `transform_specialization` function to unfold and display unfolded code."
   ]
  },
  {
   "cell_type": "code",
   "execution_count": 3,
   "metadata": {},
   "outputs": [],
   "source": [
    "from neurologic.template_transformer import transform_specialization"
   ]
  },
  {
   "cell_type": "code",
   "execution_count": 5,
   "metadata": {},
   "outputs": [
    {
     "name": "stdout",
     "output_type": "stream",
     "text": [
      "0.0 score() :- letter(a,Position). [lukasiewicz]\n",
      "0.0 score() :- letter(b,Position). [lukasiewicz]\n",
      "0.0 score() :- letter(c,Position). [lukasiewicz]\n",
      "0.0 score() :- letter(d,Position). [lukasiewicz]\n",
      "0.0 score() :- letter(e,Position). [lukasiewicz]\n",
      "0.0 score() :- letter(f,Position). [lukasiewicz]\n",
      "0.0 score() :- letter(g,Position). [lukasiewicz]\n",
      "0.0 score() :- letter(h,Position). [lukasiewicz]\n",
      "0.0 score() :- letter(i,Position). [lukasiewicz]\n",
      "0.0 score() :- letter(j,Position). [lukasiewicz]\n",
      "0.0 score() :- letter(k,Position). [lukasiewicz]\n",
      "0.0 score() :- letter(l,Position). [lukasiewicz]\n",
      "0.0 score() :- letter(m,Position). [lukasiewicz]\n",
      "0.0 score() :- letter(n,Position). [lukasiewicz]\n",
      "0.0 score() :- letter(o,Position). [lukasiewicz]\n",
      "0.0 score() :- letter(p,Position). [lukasiewicz]\n",
      "0.0 score() :- letter(q,Position). [lukasiewicz]\n",
      "0.0 score() :- letter(r,Position). [lukasiewicz]\n",
      "0.0 score() :- letter(s,Position). [lukasiewicz]\n",
      "0.0 score() :- letter(t,Position). [lukasiewicz]\n",
      "0.0 score() :- letter(u,Position). [lukasiewicz]\n",
      "0.0 score() :- letter(v,Position). [lukasiewicz]\n",
      "0.0 score() :- letter(w,Position). [lukasiewicz]\n",
      "0.0 score() :- letter(x,Position). [lukasiewicz]\n",
      "0.0 score() :- letter(y,Position). [lukasiewicz]\n",
      "0.0 score() :- letter(z,Position). [lukasiewicz]\n",
      "score/0 [sum]\n"
     ]
    }
   ],
   "source": [
    "print(transform_specialization(open(\"sample_tasks/scrabble_specialized_rules.pl\").read()))"
   ]
  },
  {
   "cell_type": "markdown",
   "metadata": {},
   "source": [
    "In next chapter you explore methods to see how does the template reacts throughout learning. Jump right away to [3. Ways to Visualize Template Learning](3. Ways to Visualize Template Learning.ipynb)."
   ]
  }
 ],
 "metadata": {
  "kernelspec": {
   "display_name": "Python 3",
   "language": "python",
   "name": "python3"
  },
  "language_info": {
   "codemirror_mode": {
    "name": "ipython",
    "version": 3
   },
   "file_extension": ".py",
   "mimetype": "text/x-python",
   "name": "python",
   "nbconvert_exporter": "python",
   "pygments_lexer": "ipython3",
   "version": "3.6.2"
  }
 },
 "nbformat": 4,
 "nbformat_minor": 2
}
